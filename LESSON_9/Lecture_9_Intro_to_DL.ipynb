{
 "cells": [
  {
   "cell_type": "markdown",
   "metadata": {
    "cellId": "lflwsnkha4ljgxe5lil4",
    "execution_id": "be26f565-0aef-466d-9b35-abdeea7dee7c",
    "pycharm": {
     "name": "#%% md\n"
    }
   },
   "source": [
    "# LSTM. Трансформер. Механизм внимания (ноутбук)\n",
    "\n",
    "> Завершим тему рекуррентных нейронных сетей. Начнем знакомство с архитектурой нейронных сетей Трансформер."
   ]
  },
  {
   "cell_type": "code",
   "execution_count": 1,
   "metadata": {
    "cellId": "k9o6g2eti35r0rjd4x1dl",
    "pycharm": {
     "name": "#%%\n"
    }
   },
   "outputs": [],
   "source": [
    "import torch\n",
    "import torch.nn as nn\n",
    "\n",
    "import matplotlib.pyplot as plt\n",
    "from IPython.display import clear_output"
   ]
  },
  {
   "cell_type": "markdown",
   "metadata": {
    "cellId": "n1210mogsynkhwbg7zkub",
    "execution_id": "55ba01d3-4724-4e8c-be1b-b4f7cf44f6d0",
    "pycharm": {
     "name": "#%% md\n"
    }
   },
   "source": [
    "## Данные"
   ]
  },
  {
   "cell_type": "code",
   "execution_count": 2,
   "metadata": {
    "cellId": "vyshd02sxbeab7f9tmqsg",
    "jupyter": {
     "outputs_hidden": false
    },
    "pycharm": {
     "name": "#%%\n"
    }
   },
   "outputs": [],
   "source": [
    "aneks = []\n",
    "\n",
    "with open('anek.txt', 'r') as f:\n",
    "    aneks.extend(f.read().split('\\n'))"
   ]
  },
  {
   "cell_type": "code",
   "execution_count": 3,
   "metadata": {
    "pycharm": {
     "name": "#%%\n"
    }
   },
   "outputs": [
    {
     "data": {
      "text/plain": [
       "125103"
      ]
     },
     "execution_count": 3,
     "metadata": {},
     "output_type": "execute_result"
    }
   ],
   "source": [
    "len(aneks)"
   ]
  },
  {
   "cell_type": "code",
   "execution_count": 4,
   "metadata": {
    "pycharm": {
     "name": "#%%\n"
    }
   },
   "outputs": [],
   "source": [
    "class Vocabulary:\n",
    "    def __init__(self):\n",
    "        self.vocabulary = ['_', '#', '<']  # sos, eos, pad\n",
    "        self.vocabulary.extend('абвгдеёжзийклмнопрстуфхцчшщъыьэюя')\n",
    "        self.vocabulary.extend('абвгдеёжзийклмнопрстуфхцчшщъыьэюя'.upper())\n",
    "        self.vocabulary.extend('0123456789 ,.!?-')\n",
    "\n",
    "        self._idx2char = {i: char for i, char in enumerate(self.vocabulary)}\n",
    "        self._char2idx = {char: i for i, char in enumerate(self.vocabulary)}\n",
    "\n",
    "    def get_vocabulary(self):\n",
    "        return self.vocabulary\n",
    "\n",
    "    def idx2char(self, idx: int):\n",
    "        if idx not in self._idx2char:\n",
    "            return '<'\n",
    "\n",
    "        return self._idx2char[idx]\n",
    "\n",
    "    def char2idx(self, char: str):\n",
    "        if char not in self._char2idx:\n",
    "            return self.get_pad()\n",
    "\n",
    "        return self._char2idx[char]\n",
    "\n",
    "    def encode(self, text):\n",
    "        result = [self.char2idx(char) for char in text]\n",
    "\n",
    "        result = [self.get_sos()] + result + [self.get_eos()]\n",
    "\n",
    "        return result\n",
    "\n",
    "    def get_sos(self):\n",
    "        return self.char2idx('_')\n",
    "\n",
    "    def get_eos(self):\n",
    "        return self.char2idx('#')\n",
    "\n",
    "    def get_pad(self):\n",
    "        return self.char2idx('<')"
   ]
  },
  {
   "cell_type": "code",
   "execution_count": 5,
   "metadata": {
    "pycharm": {
     "name": "#%%\n"
    }
   },
   "outputs": [],
   "source": [
    "from torch.utils.data import Dataset\n",
    "\n",
    "\n",
    "class Anekdotes(Dataset):\n",
    "    def __init__(self, aneks):\n",
    "        self.aneks = aneks\n",
    "\n",
    "        self.vocab = Vocabulary()\n",
    "\n",
    "    def __getitem__(self, idx):\n",
    "        return torch.LongTensor(self.vocab.encode(self.aneks[idx]))\n",
    "\n",
    "    def __len__(self):\n",
    "        return len(self.aneks)"
   ]
  },
  {
   "cell_type": "code",
   "execution_count": 6,
   "metadata": {
    "pycharm": {
     "name": "#%%\n"
    }
   },
   "outputs": [],
   "source": [
    "dataset = Anekdotes(aneks)"
   ]
  },
  {
   "cell_type": "code",
   "execution_count": 7,
   "metadata": {
    "pycharm": {
     "name": "#%%\n"
    }
   },
   "outputs": [
    {
     "data": {
      "text/plain": [
       "tensor([ 0, 61, 22, 12, 20, 15, 12, 26, 79, 22, 18, 19, 12, 15, 79,  4, 23, 20,\n",
       "        10, 23, 13, 14, 23, 81, 79, 55, 18, 15, 32, 14, 18, 79, 27,  8, 20,  8,\n",
       "        11, 79,  7,  5,  3, 79, 27,  3, 21,  3, 79,  8, 16, 23, 79, 23,  7,  3,\n",
       "        15, 18, 21, 32, 79,  8,  8, 79, 23, 22, 18, 19, 12, 22, 32, 81,  1])"
      ]
     },
     "execution_count": 7,
     "metadata": {},
     "output_type": "execute_result"
    }
   ],
   "source": [
    "dataset[10]"
   ]
  },
  {
   "cell_type": "code",
   "execution_count": 8,
   "metadata": {
    "pycharm": {
     "name": "#%%\n"
    }
   },
   "outputs": [
    {
     "data": {
      "text/plain": [
       "'Штирлиц топил буржуйку. Только через два часа ему удалось ее утопить.'"
      ]
     },
     "execution_count": 8,
     "metadata": {},
     "output_type": "execute_result"
    }
   ],
   "source": [
    "aneks[10]"
   ]
  },
  {
   "cell_type": "code",
   "execution_count": 9,
   "metadata": {
    "pycharm": {
     "name": "#%%\n"
    }
   },
   "outputs": [],
   "source": [
    "from torch.utils.data import random_split\n",
    "\n",
    "\n",
    "train_dataset, valid_dataset = random_split(dataset, (int(len(dataset) * 0.9), len(dataset) - int(len(dataset) * 0.9)))"
   ]
  },
  {
   "cell_type": "code",
   "execution_count": 10,
   "metadata": {
    "pycharm": {
     "name": "#%%\n"
    }
   },
   "outputs": [],
   "source": [
    "from torch.nn.utils.rnn import pad_sequence\n",
    "\n",
    "\n",
    "pad_idx = dataset.vocab.get_pad()\n",
    "\n",
    "\n",
    "def collate_fn(batch):\n",
    "    return pad_sequence([b[:256] for b in batch], padding_value=pad_idx, batch_first=True)"
   ]
  },
  {
   "cell_type": "code",
   "execution_count": 11,
   "metadata": {
    "pycharm": {
     "name": "#%%\n"
    }
   },
   "outputs": [],
   "source": [
    "from torch.utils.data import DataLoader\n",
    "\n",
    "\n",
    "train_loader = DataLoader(train_dataset, batch_size=256, collate_fn=collate_fn, pin_memory=True)\n",
    "valid_loader = DataLoader(valid_dataset, batch_size=256, collate_fn=collate_fn, pin_memory=True)"
   ]
  },
  {
   "cell_type": "markdown",
   "metadata": {
    "pycharm": {
     "name": "#%% md\n"
    }
   },
   "source": [
    "## Модель"
   ]
  },
  {
   "cell_type": "markdown",
   "metadata": {
    "pycharm": {
     "name": "#%% md\n"
    }
   },
   "source": [
    "### [RNN](https://pytorch.org/docs/stable/generated/torch.nn.RNN.html)\n",
    "\n",
    "$$h_t = \\tanh\\left( x_tW_{xh}^T + b_{xh} + h_{t-1}W_{hh}^T + b_{hh} \\right)$$\n",
    "\n",
    "либо если `bias=False`, то\n",
    "\n",
    "$$h_t = \\tanh\\left( x_tW_{xh}^T + h_{t-1}W_{hh}^T \\right)$$\n",
    "\n",
    "Параметры:\n",
    "\n",
    " - `input_size` - размерность $x_i$\n",
    " - `hidden_size` - размерность $h_i$\n",
    " - `num_layers` - количество слоев (по умолчанию 1)\n",
    " - `dropout` - какой делать дропаут при количестве слоев > 1 (по умолчанию 0)\n",
    " - `bidirectional` - двунаправленная"
   ]
  },
  {
   "cell_type": "code",
   "execution_count": 12,
   "metadata": {
    "pycharm": {
     "name": "#%%\n"
    }
   },
   "outputs": [],
   "source": [
    "layer = nn.RNN(input_size=3, hidden_size=6)"
   ]
  },
  {
   "cell_type": "code",
   "execution_count": 13,
   "metadata": {
    "pycharm": {
     "name": "#%%\n"
    }
   },
   "outputs": [
    {
     "data": {
      "text/plain": [
       "RNN(3, 6)"
      ]
     },
     "execution_count": 13,
     "metadata": {},
     "output_type": "execute_result"
    }
   ],
   "source": [
    "layer"
   ]
  },
  {
   "cell_type": "code",
   "execution_count": 14,
   "metadata": {
    "pycharm": {
     "name": "#%%\n"
    }
   },
   "outputs": [
    {
     "name": "stdout",
     "output_type": "stream",
     "text": [
      "Parameter containing:\n",
      "tensor([[ 0.0278,  0.0986, -0.0285,  0.3940,  0.0415, -0.0168],\n",
      "        [-0.2980,  0.2168, -0.2060,  0.0660, -0.0138, -0.3842],\n",
      "        [ 0.3480, -0.2691, -0.1229, -0.3769,  0.3061,  0.3690],\n",
      "        [-0.0545,  0.3290, -0.3401, -0.0741,  0.3241, -0.0785],\n",
      "        [ 0.0278,  0.1802,  0.0609,  0.1313,  0.2257,  0.3890],\n",
      "        [-0.3540, -0.2831, -0.3339,  0.1690, -0.2873, -0.1309]],\n",
      "       requires_grad=True)\n",
      "\n",
      "torch.Size([6, 6])\n"
     ]
    }
   ],
   "source": [
    "print(layer.weight_hh_l0)\n",
    "print()\n",
    "print(layer.weight_hh_l0.shape)"
   ]
  },
  {
   "cell_type": "code",
   "execution_count": 15,
   "metadata": {
    "pycharm": {
     "name": "#%%\n"
    }
   },
   "outputs": [
    {
     "name": "stdout",
     "output_type": "stream",
     "text": [
      "Parameter containing:\n",
      "tensor([[ 0.1702,  0.3281, -0.1013],\n",
      "        [ 0.2072, -0.2817,  0.0894],\n",
      "        [-0.0665,  0.3680,  0.0318],\n",
      "        [-0.2995, -0.3396, -0.1030],\n",
      "        [-0.3781, -0.2472, -0.0707],\n",
      "        [ 0.3433, -0.1282, -0.1461]], requires_grad=True)\n",
      "\n",
      "torch.Size([6, 3])\n"
     ]
    }
   ],
   "source": [
    "print(layer.weight_ih_l0)\n",
    "print()\n",
    "print(layer.weight_ih_l0.shape)"
   ]
  },
  {
   "cell_type": "code",
   "execution_count": 16,
   "metadata": {
    "pycharm": {
     "name": "#%%\n"
    }
   },
   "outputs": [
    {
     "name": "stdout",
     "output_type": "stream",
     "text": [
      "Parameter containing:\n",
      "tensor([-0.0808, -0.1203, -0.2600, -0.0725, -0.2681,  0.2463],\n",
      "       requires_grad=True)\n",
      "\n",
      "torch.Size([6])\n"
     ]
    }
   ],
   "source": [
    "print(layer.bias_hh_l0)\n",
    "print()\n",
    "print(layer.bias_hh_l0.shape)"
   ]
  },
  {
   "cell_type": "code",
   "execution_count": 17,
   "metadata": {
    "pycharm": {
     "name": "#%%\n"
    }
   },
   "outputs": [
    {
     "name": "stdout",
     "output_type": "stream",
     "text": [
      "Parameter containing:\n",
      "tensor([ 0.1000,  0.1231, -0.3321,  0.1571,  0.3143,  0.3461],\n",
      "       requires_grad=True)\n",
      "\n",
      "torch.Size([6])\n"
     ]
    }
   ],
   "source": [
    "print(layer.bias_ih_l0)\n",
    "print()\n",
    "print(layer.bias_ih_l0.shape)"
   ]
  },
  {
   "cell_type": "code",
   "execution_count": 18,
   "metadata": {
    "pycharm": {
     "name": "#%%\n"
    }
   },
   "outputs": [
    {
     "name": "stdout",
     "output_type": "stream",
     "text": [
      "tensor([[[ 6.8393e-01,  5.1491e-01,  2.0534e-01,  2.3146e-02, -2.1221e-01,\n",
      "          -3.5215e-01],\n",
      "         [-1.7936e-01,  9.0752e-02,  2.8481e-01, -2.8293e-02,  9.0021e-02,\n",
      "           4.4395e-01],\n",
      "         [ 1.4796e-01, -4.7181e-01,  7.6561e-01,  5.4260e-01,  5.1216e-01,\n",
      "           6.5154e-01],\n",
      "         [ 8.9588e-01,  7.6013e-01,  7.3114e-01,  5.1172e-01, -3.2533e-02,\n",
      "          -4.3009e-01],\n",
      "         [-3.8440e-01,  7.3988e-02,  6.1139e-01,  3.4958e-01,  4.1075e-01,\n",
      "           4.9347e-01],\n",
      "         [ 2.9111e-01,  1.1141e-01,  7.7535e-01,  8.8099e-01,  6.5445e-01,\n",
      "          -6.7708e-01],\n",
      "         [ 5.4647e-01,  2.8850e-01,  5.5751e-01, -7.3801e-03, -2.2809e-01,\n",
      "           3.9764e-01]],\n",
      "\n",
      "        [[-1.1121e-01, -4.3006e-01,  4.6630e-01,  3.0443e-01,  3.1764e-01,\n",
      "           3.7292e-01],\n",
      "         [-2.4659e-01, -5.4706e-01,  7.1299e-01,  7.4500e-01,  5.4166e-01,\n",
      "           2.8506e-02],\n",
      "         [ 7.0973e-01,  3.1100e-01,  5.0132e-01,  2.4227e-01, -3.8784e-01,\n",
      "          -3.7088e-01],\n",
      "         [-1.2630e-01,  1.5679e-02,  5.4782e-01,  4.0994e-01,  3.5247e-01,\n",
      "           2.0846e-01],\n",
      "         [-3.1008e-02, -2.3237e-01,  6.9787e-01,  7.0877e-01,  4.8993e-01,\n",
      "          -1.2873e-01],\n",
      "         [ 4.3445e-01,  3.7861e-01,  7.4527e-01,  9.1137e-01,  6.7908e-01,\n",
      "          -8.8274e-01],\n",
      "         [-4.6005e-01,  4.8480e-02,  2.1088e-01,  1.5857e-01, -1.2411e-01,\n",
      "          -1.5032e-01]],\n",
      "\n",
      "        [[ 7.2912e-01,  3.0832e-01,  1.3684e-02, -7.4668e-01, -7.4135e-01,\n",
      "           6.8073e-01],\n",
      "         [ 6.3585e-01,  6.9532e-01,  4.8741e-01,  3.5557e-01,  2.9883e-01,\n",
      "          -3.7269e-02],\n",
      "         [ 1.1691e-01,  4.8672e-01,  5.8395e-01,  4.0315e-01,  4.0739e-01,\n",
      "           1.1398e-01],\n",
      "         [ 3.5684e-01,  4.4448e-01,  4.8909e-01,  2.0373e-01, -5.5111e-02,\n",
      "           6.2786e-03],\n",
      "         [ 3.1938e-01,  1.5228e-01,  6.1569e-01,  1.5478e-01,  1.3623e-01,\n",
      "           5.5811e-01],\n",
      "         [ 3.6663e-01,  4.7518e-01,  7.4631e-01,  8.0247e-01,  5.9963e-01,\n",
      "          -4.7822e-01],\n",
      "         [-2.6992e-01,  7.6841e-02,  2.9317e-01, -1.3426e-01, -2.9177e-01,\n",
      "           3.4540e-01]],\n",
      "\n",
      "        [[ 2.8639e-01,  6.5877e-02,  4.9617e-01,  5.9572e-01,  4.6757e-01,\n",
      "          -3.8446e-01],\n",
      "         [-2.5289e-01, -2.1472e-02,  3.5161e-01,  3.5413e-01,  1.0176e-01,\n",
      "          -1.9953e-01],\n",
      "         [ 5.9550e-01,  1.9895e-01,  3.9341e-01,  1.6086e-01, -2.1754e-01,\n",
      "          -2.2369e-01],\n",
      "         [ 6.1904e-01,  7.6742e-01,  8.2466e-02, -9.7056e-02, -4.2112e-01,\n",
      "          -4.9513e-01],\n",
      "         [-5.5946e-04,  1.6996e-01,  5.1123e-01,  4.5217e-01,  5.7804e-01,\n",
      "           1.6537e-01],\n",
      "         [-2.0890e-01, -2.8443e-01,  4.7604e-01,  5.1424e-02, -7.9106e-02,\n",
      "           5.5401e-01],\n",
      "         [ 5.8328e-01,  1.7648e-01,  5.8218e-01,  4.7141e-01, -2.5978e-02,\n",
      "          -2.4628e-01]],\n",
      "\n",
      "        [[ 1.8426e-02, -2.2932e-01,  3.8004e-01,  2.8138e-01,  2.1426e-01,\n",
      "           1.1234e-01],\n",
      "         [-1.6692e-02, -3.7659e-01,  3.0709e-01, -3.0093e-01, -4.3307e-01,\n",
      "           6.5921e-01],\n",
      "         [ 6.5790e-01,  1.5782e-01,  3.2667e-01, -2.9412e-01, -5.8236e-01,\n",
      "           4.5606e-01],\n",
      "         [ 4.7062e-01,  5.3882e-01,  5.7148e-01,  5.0135e-01,  3.2797e-01,\n",
      "          -1.5387e-01],\n",
      "         [ 9.2482e-03,  1.7749e-01,  3.5322e-01, -3.5315e-01, -3.2069e-01,\n",
      "           6.7141e-01],\n",
      "         [ 5.4621e-01,  2.6694e-01,  4.8981e-01,  6.5760e-02, -2.1481e-01,\n",
      "           3.7633e-01],\n",
      "         [ 3.7274e-01,  4.3300e-01,  7.2859e-01,  6.9640e-01,  5.8553e-01,\n",
      "          -1.5777e-01]]], grad_fn=<TransposeBackward1>)\n",
      "\n",
      "torch.Size([5, 7, 6])\n",
      "\n",
      "tensor([[[ 0.5465,  0.2885,  0.5575, -0.0074, -0.2281,  0.3976],\n",
      "         [-0.4600,  0.0485,  0.2109,  0.1586, -0.1241, -0.1503],\n",
      "         [-0.2699,  0.0768,  0.2932, -0.1343, -0.2918,  0.3454],\n",
      "         [ 0.5833,  0.1765,  0.5822,  0.4714, -0.0260, -0.2463],\n",
      "         [ 0.3727,  0.4330,  0.7286,  0.6964,  0.5855, -0.1578]]],\n",
      "       grad_fn=<StackBackward0>)\n",
      "\n",
      "torch.Size([1, 5, 6])\n"
     ]
    }
   ],
   "source": [
    "batch_size = 5\n",
    "seq_len = 7\n",
    "input_dim = 3\n",
    "\n",
    "layer = nn.RNN(input_size=3, hidden_size=6, batch_first=True)\n",
    "\n",
    "x = torch.randn(batch_size, seq_len, input_dim)\n",
    "\n",
    "hs, h_last = layer(x)\n",
    "\n",
    "print(hs)\n",
    "print()\n",
    "print(hs.shape)\n",
    "\n",
    "print()\n",
    "\n",
    "print(h_last)\n",
    "print()\n",
    "print(h_last.shape)"
   ]
  },
  {
   "cell_type": "code",
   "execution_count": 19,
   "metadata": {
    "pycharm": {
     "name": "#%%\n"
    }
   },
   "outputs": [
    {
     "name": "stdout",
     "output_type": "stream",
     "text": [
      "tensor([[[ 0.4738,  0.8070, -0.4609, -0.7916, -0.8594, -0.7028],\n",
      "         [ 0.2114, -0.4884, -0.2812, -0.4052, -0.0538, -0.1576],\n",
      "         [ 0.3945,  0.8211, -0.4159, -0.7576, -0.8439, -0.6451],\n",
      "         [-0.1226,  0.3234,  0.2979, -0.2493, -0.3324, -0.2540],\n",
      "         [ 0.0712, -0.2375,  0.1102, -0.3148, -0.1491, -0.2836],\n",
      "         [-0.0426, -0.5246,  0.1531, -0.1443,  0.1508, -0.0613],\n",
      "         [ 0.0952, -0.1903,  0.1262, -0.3425, -0.2011, -0.3398]],\n",
      "\n",
      "        [[-0.4700, -0.0966,  0.5946, -0.6427, -0.7516, -0.1860],\n",
      "         [ 0.3861,  0.1212, -0.6427, -0.5975, -0.6251, -0.3079],\n",
      "         [ 0.1171, -0.3160, -0.4131, -0.8746, -0.8360, -0.3146],\n",
      "         [-0.0525, -0.5389,  0.3898, -0.3070, -0.1207, -0.4770],\n",
      "         [-0.0379, -0.6753,  0.1682, -0.0434,  0.1285, -0.1803],\n",
      "         [ 0.5194,  0.3457, -0.4220, -0.5670, -0.6267, -0.7001],\n",
      "         [ 0.0261, -0.6612,  0.0803, -0.1571,  0.0124, -0.2430]],\n",
      "\n",
      "        [[-0.0547,  0.4161,  0.5741, -0.0729, -0.5696, -0.8581],\n",
      "         [-0.1324, -0.9108, -0.0987, -0.2734,  0.1294,  0.3109],\n",
      "         [ 0.1138, -0.0843, -0.2290, -0.4135, -0.6789, -0.5088],\n",
      "         [ 0.4080, -0.2130, -0.5111, -0.3873, -0.4360, -0.5550],\n",
      "         [ 0.0983, -0.2548,  0.3439,  0.1307, -0.0092, -0.4875],\n",
      "         [-0.5688, -0.6432,  0.8480, -0.0817, -0.2441, -0.0655],\n",
      "         [-0.0937,  0.1811,  0.4213,  0.1570, -0.2286, -0.4086]],\n",
      "\n",
      "        [[-0.3303, -0.7048,  0.4839, -0.0029,  0.0655, -0.1608],\n",
      "         [-0.1993, -0.3020,  0.5459,  0.5391,  0.4183, -0.2189],\n",
      "         [-0.2630, -0.6302,  0.5559,  0.0717, -0.1454, -0.2889],\n",
      "         [-0.1425, -0.4094,  0.1322, -0.2405, -0.4141, -0.0105],\n",
      "         [ 0.2386,  0.0583, -0.1863, -0.3640, -0.4294, -0.4080],\n",
      "         [ 0.1991, -0.2866,  0.1548,  0.3582,  0.2133, -0.7050],\n",
      "         [ 0.2350,  0.6605, -0.1345, -0.6133, -0.7578, -0.6434]],\n",
      "\n",
      "        [[ 0.3596,  0.3403, -0.2819, -0.1302, -0.3828, -0.6561],\n",
      "         [ 0.2828,  0.2044, -0.1649, -0.2400, -0.1855, -0.4066],\n",
      "         [ 0.5211,  0.2764, -0.5493, -0.3026, -0.5015, -0.6978],\n",
      "         [ 0.1416,  0.0598,  0.0966, -0.0512, -0.3013, -0.5859],\n",
      "         [-0.3887, -0.7746,  0.6514,  0.1189,  0.1955,  0.0067],\n",
      "         [-0.0242,  0.3866,  0.1976, -0.2459, -0.5198, -0.2312],\n",
      "         [ 0.1866,  0.6115,  0.1125, -0.8743, -0.9412, -0.8017]]],\n",
      "       grad_fn=<StackBackward0>)\n",
      "\n",
      "torch.Size([5, 7, 6])\n",
      "\n",
      "tensor([[[ 0.3596,  0.3403, -0.2819, -0.1302, -0.3828, -0.6561],\n",
      "         [ 0.2828,  0.2044, -0.1649, -0.2400, -0.1855, -0.4066],\n",
      "         [ 0.5211,  0.2764, -0.5493, -0.3026, -0.5015, -0.6978],\n",
      "         [ 0.1416,  0.0598,  0.0966, -0.0512, -0.3013, -0.5859],\n",
      "         [-0.3887, -0.7746,  0.6514,  0.1189,  0.1955,  0.0067],\n",
      "         [-0.0242,  0.3866,  0.1976, -0.2459, -0.5198, -0.2312],\n",
      "         [ 0.1866,  0.6115,  0.1125, -0.8743, -0.9412, -0.8017]]],\n",
      "       grad_fn=<StackBackward0>)\n",
      "\n",
      "torch.Size([1, 7, 6])\n"
     ]
    }
   ],
   "source": [
    "batch_size = 5\n",
    "seq_len = 7\n",
    "input_dim = 3\n",
    "\n",
    "layer = nn.RNN(input_size=3, hidden_size=6, batch_first=False)\n",
    "\n",
    "x = torch.randn(batch_size, seq_len, input_dim)\n",
    "\n",
    "hs, h_last = layer(x)\n",
    "\n",
    "print(hs)\n",
    "print()\n",
    "print(hs.shape)\n",
    "\n",
    "print()\n",
    "\n",
    "print(h_last)\n",
    "print()\n",
    "print(h_last.shape)"
   ]
  },
  {
   "cell_type": "markdown",
   "metadata": {
    "pycharm": {
     "name": "#%% md\n"
    }
   },
   "source": [
    "### [GRU](https://pytorch.org/docs/stable/generated/torch.nn.GRU.html)\n",
    "\n",
    "$$r_t = \\sigma\\left( x_t W_{xr}^T + b_{xr} + h_{t-1}W_{hr}^T + b_{hr} \\right)$$\n",
    "$$z_t = \\sigma\\left( x_t W_{xz}^T + b_{xz} + h_{t-1}W_{hz}^T + b_{hz} \\right)$$\n",
    "$$\\hat{h_t} = \\tanh\\left( x_tW_{xh}^T + b_{xh} + r_t * (h_{t-1}W_{hh}^T + b_{hh}) \\right)$$\n",
    "$$h_t = (1 - z_t) * \\hat{h_t} + z_t * h_{t-1}$$\n",
    "\n",
    "Параметры такие же как у RNN."
   ]
  },
  {
   "cell_type": "code",
   "execution_count": 20,
   "metadata": {
    "pycharm": {
     "name": "#%%\n"
    }
   },
   "outputs": [],
   "source": [
    "layer = nn.GRU(input_size=3, hidden_size=6)"
   ]
  },
  {
   "cell_type": "code",
   "execution_count": 21,
   "metadata": {
    "pycharm": {
     "name": "#%%\n"
    }
   },
   "outputs": [
    {
     "name": "stdout",
     "output_type": "stream",
     "text": [
      "Parameter containing:\n",
      "tensor([[-0.1051, -0.0725, -0.0505, -0.3419,  0.3817, -0.2495],\n",
      "        [-0.0880,  0.2622, -0.1416, -0.2424,  0.2905, -0.3113],\n",
      "        [ 0.0271,  0.1615, -0.3447,  0.3402,  0.3198,  0.2695],\n",
      "        [-0.2569,  0.3312,  0.3554,  0.0775,  0.2755, -0.3647],\n",
      "        [ 0.0543,  0.0820,  0.0180, -0.3849, -0.3563,  0.2099],\n",
      "        [ 0.0399,  0.3419, -0.2020, -0.1220,  0.0061,  0.1367],\n",
      "        [-0.2528, -0.2803, -0.3626, -0.2128,  0.4007,  0.3201],\n",
      "        [-0.2742,  0.0087, -0.1649, -0.3906, -0.3832,  0.2785],\n",
      "        [ 0.3261,  0.1837,  0.0611,  0.0319,  0.2644,  0.2476],\n",
      "        [-0.3221,  0.2518,  0.1866,  0.1838,  0.0964, -0.2839],\n",
      "        [-0.3683,  0.3594, -0.0238, -0.2233,  0.3446, -0.0489],\n",
      "        [ 0.3742, -0.2068, -0.1891, -0.1809, -0.1617, -0.2545],\n",
      "        [ 0.0410, -0.1457, -0.2952, -0.2609,  0.0019,  0.0271],\n",
      "        [ 0.0029,  0.0755,  0.2517, -0.1582, -0.3509, -0.1209],\n",
      "        [ 0.2547, -0.1691,  0.0690,  0.3863, -0.2759,  0.1887],\n",
      "        [ 0.1203, -0.0016, -0.0389, -0.1578,  0.0542,  0.2713],\n",
      "        [-0.4075,  0.1703,  0.1770,  0.1759, -0.4012,  0.2017],\n",
      "        [ 0.3241,  0.2821, -0.2333, -0.0541,  0.0340,  0.2175]],\n",
      "       requires_grad=True)\n",
      "\n",
      "torch.Size([18, 6])\n"
     ]
    }
   ],
   "source": [
    "print(layer.weight_hh_l0)\n",
    "print()\n",
    "print(layer.weight_hh_l0.shape)"
   ]
  },
  {
   "cell_type": "code",
   "execution_count": 22,
   "metadata": {
    "pycharm": {
     "name": "#%%\n"
    }
   },
   "outputs": [
    {
     "name": "stdout",
     "output_type": "stream",
     "text": [
      "Parameter containing:\n",
      "tensor([[-0.0958, -0.3445,  0.3166],\n",
      "        [ 0.3734, -0.2178,  0.0367],\n",
      "        [-0.2793,  0.0341,  0.3504],\n",
      "        [ 0.0809, -0.3264,  0.2734],\n",
      "        [-0.2435,  0.3148, -0.2974],\n",
      "        [ 0.3072,  0.0226, -0.3614],\n",
      "        [ 0.1759, -0.2326,  0.3181],\n",
      "        [ 0.0145, -0.1294, -0.3488],\n",
      "        [ 0.2125,  0.3706,  0.2603],\n",
      "        [-0.0563,  0.0833,  0.1243],\n",
      "        [-0.0351,  0.2544,  0.0062],\n",
      "        [ 0.0765,  0.2304,  0.1306],\n",
      "        [ 0.0745, -0.2629,  0.3771],\n",
      "        [ 0.1822, -0.2246,  0.0416],\n",
      "        [-0.2902,  0.0588, -0.3721],\n",
      "        [-0.0006,  0.1299,  0.2196],\n",
      "        [-0.2383,  0.3937, -0.0385],\n",
      "        [ 0.1271,  0.2873,  0.1358]], requires_grad=True)\n",
      "\n",
      "torch.Size([18, 3])\n"
     ]
    }
   ],
   "source": [
    "print(layer.weight_ih_l0)\n",
    "print()\n",
    "print(layer.weight_ih_l0.shape)"
   ]
  },
  {
   "cell_type": "code",
   "execution_count": 23,
   "metadata": {
    "pycharm": {
     "name": "#%%\n"
    }
   },
   "outputs": [
    {
     "name": "stdout",
     "output_type": "stream",
     "text": [
      "Parameter containing:\n",
      "tensor([-0.2352, -0.0045,  0.1961,  0.3318, -0.4057, -0.2276,  0.2886,  0.3000,\n",
      "         0.1969, -0.2112, -0.2790, -0.2761, -0.3785, -0.3618,  0.3024, -0.1647,\n",
      "        -0.0226,  0.1907], requires_grad=True)\n",
      "\n",
      "torch.Size([18])\n"
     ]
    }
   ],
   "source": [
    "print(layer.bias_ih_l0)\n",
    "print()\n",
    "print(layer.bias_ih_l0.shape)"
   ]
  },
  {
   "cell_type": "code",
   "execution_count": 24,
   "metadata": {
    "pycharm": {
     "name": "#%%\n"
    }
   },
   "outputs": [
    {
     "name": "stdout",
     "output_type": "stream",
     "text": [
      "Parameter containing:\n",
      "tensor([-0.2352, -0.0045,  0.1961,  0.3318, -0.4057, -0.2276,  0.2886,  0.3000,\n",
      "         0.1969, -0.2112, -0.2790, -0.2761, -0.3785, -0.3618,  0.3024, -0.1647,\n",
      "        -0.0226,  0.1907], requires_grad=True)\n",
      "\n",
      "torch.Size([18])\n"
     ]
    }
   ],
   "source": [
    "print(layer.bias_ih_l0)\n",
    "print()\n",
    "print(layer.bias_ih_l0.shape)"
   ]
  },
  {
   "cell_type": "markdown",
   "metadata": {
    "pycharm": {
     "name": "#%% md\n"
    }
   },
   "source": [
    "### [LSTM](https://pytorch.org/docs/stable/generated/torch.nn.LSTM.html)\n",
    "\n",
    "Более страшные формулы, все в целом очень похоже на GRU. Параметры те же."
   ]
  },
  {
   "cell_type": "code",
   "execution_count": 25,
   "metadata": {
    "pycharm": {
     "name": "#%%\n"
    }
   },
   "outputs": [],
   "source": [
    "layer = nn.LSTM(input_size=3, hidden_size=6)"
   ]
  },
  {
   "cell_type": "markdown",
   "metadata": {
    "pycharm": {
     "name": "#%% md\n"
    }
   },
   "source": [
    "### Модель"
   ]
  },
  {
   "cell_type": "code",
   "execution_count": 26,
   "metadata": {
    "pycharm": {
     "name": "#%%\n"
    }
   },
   "outputs": [],
   "source": [
    "class AnekdoteRNN(nn.Module):\n",
    "    def __init__(self, num_tokens: int, emb_size: int=32, hidden_size: int=256):\n",
    "        super().__init__()\n",
    "\n",
    "        self.embedding = nn.Embedding(num_tokens, emb_size, padding_idx = pad_idx)\n",
    "\n",
    "        self.rnn = nn.LSTM(\n",
    "            input_size=emb_size,\n",
    "            hidden_size=hidden_size,\n",
    "            num_layers=4,\n",
    "            dropout=0.3,\n",
    "            batch_first=True\n",
    "        )\n",
    "\n",
    "        self.output = nn.Sequential(\n",
    "            nn.Linear(hidden_size, hidden_size),\n",
    "            nn.LeakyReLU(),\n",
    "            nn.Linear(hidden_size, num_tokens)\n",
    "        )\n",
    "\n",
    "    def forward(self, x):\n",
    "        x = self.embedding(x)\n",
    "        x, _ = self.rnn(x)\n",
    "        x  = self.output(x)\n",
    "\n",
    "        return x"
   ]
  },
  {
   "cell_type": "code",
   "execution_count": 27,
   "metadata": {
    "pycharm": {
     "name": "#%%\n"
    }
   },
   "outputs": [],
   "source": [
    "model = AnekdoteRNN(num_tokens=len(dataset.vocab.get_vocabulary()))"
   ]
  },
  {
   "cell_type": "markdown",
   "metadata": {
    "pycharm": {
     "name": "#%% md\n"
    }
   },
   "source": [
    "## Функции для обучения"
   ]
  },
  {
   "cell_type": "code",
   "execution_count": 28,
   "metadata": {
    "pycharm": {
     "name": "#%%\n"
    }
   },
   "outputs": [],
   "source": [
    "from tqdm import tqdm\n",
    "\n",
    "\n",
    "def train(model):\n",
    "    model.train()\n",
    "\n",
    "    train_loss = 0\n",
    "\n",
    "    for x in tqdm(train_loader, desc='Train'):\n",
    "        x = x.to(device)\n",
    "\n",
    "        optimizer.zero_grad()\n",
    "\n",
    "        output = model(x[:, :-1]).transpose(1, 2)\n",
    "\n",
    "        loss = loss_fn(output, x[:, 1:])\n",
    "\n",
    "        train_loss += loss.item()\n",
    "\n",
    "        loss.backward()\n",
    "\n",
    "        optimizer.step()\n",
    "\n",
    "    train_loss /= len(train_loader)\n",
    "\n",
    "    return train_loss"
   ]
  },
  {
   "cell_type": "markdown",
   "metadata": {
    "pycharm": {
     "name": "#%% md\n"
    }
   },
   "source": [
    "Поскольку мы используем `nn.CrossEntropyLoss`, то посмотрим в каком размере она ожидает входы:\n",
    "\n",
    " - Input: Shape $(C)$, $(N, C)$ or $(N, C, d_1, d_2, ..., d_K)$ with $K \\geq 1$ in the case of $K$-dimensional loss.\n",
    " - Target: $(N)$ or $(N, d_1, d_2, ..., d_K)$ with $K \\geq 1$ in the case of $K$-dimensional loss where each value should be between $[0, C)$."
   ]
  },
  {
   "cell_type": "code",
   "execution_count": 29,
   "metadata": {
    "pycharm": {
     "name": "#%%\n"
    }
   },
   "outputs": [
    {
     "name": "stdout",
     "output_type": "stream",
     "text": [
      "torch.Size([256, 255, 85])\n",
      "torch.Size([256, 255])\n",
      "\n",
      "torch.Size([256, 85, 255])\n"
     ]
    }
   ],
   "source": [
    "x = next(iter(train_loader))\n",
    "\n",
    "output = model(x[:, :-1])\n",
    "\n",
    "print(output.shape)\n",
    "print(x[:, 1:].shape)\n",
    "\n",
    "print()\n",
    "\n",
    "print(output.transpose(1, 2).shape)"
   ]
  },
  {
   "cell_type": "code",
   "execution_count": 30,
   "metadata": {
    "pycharm": {
     "name": "#%%\n"
    }
   },
   "outputs": [
    {
     "name": "stdout",
     "output_type": "stream",
     "text": [
      "85\n"
     ]
    }
   ],
   "source": [
    "print(len(dataset.vocab.get_vocabulary()))"
   ]
  },
  {
   "cell_type": "code",
   "execution_count": 31,
   "metadata": {
    "pycharm": {
     "name": "#%%\n"
    }
   },
   "outputs": [],
   "source": [
    "@torch.inference_mode()\n",
    "def evaluate(model, loader):\n",
    "    model.eval()\n",
    "\n",
    "    total_loss = 0\n",
    "\n",
    "    for x in tqdm(loader, desc='Evaluation'):\n",
    "        x = x.to(device)\n",
    "\n",
    "        output = model(x[:, :-1]).transpose(1, 2)\n",
    "\n",
    "        loss = loss_fn(output, x[:, 1:])\n",
    "\n",
    "        total_loss += loss.item()\n",
    "\n",
    "    total_loss /= len(loader)\n",
    "\n",
    "    return total_loss"
   ]
  },
  {
   "cell_type": "code",
   "execution_count": 32,
   "metadata": {
    "pycharm": {
     "name": "#%%\n"
    }
   },
   "outputs": [],
   "source": [
    "def plot_stats(\n",
    "    train_loss: list[float],\n",
    "    valid_loss: list[float],\n",
    "    title: str\n",
    "):\n",
    "    plt.figure(figsize=(16, 8))\n",
    "\n",
    "    plt.title(title + ' loss')\n",
    "\n",
    "    plt.plot(train_loss, label='Train loss')\n",
    "    plt.plot(valid_loss, label='Valid loss')\n",
    "    plt.legend()\n",
    "    plt.grid()\n",
    "\n",
    "    plt.show()"
   ]
  },
  {
   "cell_type": "code",
   "execution_count": 33,
   "metadata": {
    "pycharm": {
     "name": "#%%\n"
    }
   },
   "outputs": [],
   "source": [
    "def whole_train_valid_cycle(model, num_epochs, title):\n",
    "    train_loss_history, valid_loss_history = [], []\n",
    "\n",
    "    for epoch in range(num_epochs):\n",
    "        train_loss = train(model)\n",
    "        valid_loss = evaluate(model, valid_loader)\n",
    "\n",
    "        train_loss_history.append(train_loss)\n",
    "        valid_loss_history.append(valid_loss)\n",
    "\n",
    "        clear_output(wait=True)\n",
    "\n",
    "        plot_stats(\n",
    "            train_loss_history, valid_loss_history,\n",
    "            title\n",
    "        )"
   ]
  },
  {
   "cell_type": "markdown",
   "metadata": {
    "pycharm": {
     "name": "#%% md\n"
    }
   },
   "source": [
    "## Обучение"
   ]
  },
  {
   "cell_type": "code",
   "execution_count": 34,
   "metadata": {
    "pycharm": {
     "name": "#%%\n"
    }
   },
   "outputs": [
    {
     "name": "stdout",
     "output_type": "stream",
     "text": [
      "cuda:0\n",
      "NVIDIA GeForce RTX 3090 Ti\n"
     ]
    }
   ],
   "source": [
    "device = torch.device('cuda:0' if torch.cuda.is_available() else 'cpu')\n",
    "\n",
    "print(device)\n",
    "print(torch.cuda.get_device_name())"
   ]
  },
  {
   "cell_type": "code",
   "execution_count": 35,
   "metadata": {
    "pycharm": {
     "name": "#%%\n"
    }
   },
   "outputs": [
    {
     "data": {
      "image/png": "[encoded data removed]",
      "text/plain": [
       "<Figure size 1152x576 with 1 Axes>"
      ]
     },
     "metadata": {
      "needs_background": "light"
     },
     "output_type": "display_data"
    }
   ],
   "source": [
    "from torch.optim import Adam\n",
    "\n",
    "\n",
    "model = model.to(device)\n",
    "\n",
    "optimizer = Adam(model.parameters(), lr=5e-3)\n",
    "\n",
    "loss_fn = nn.CrossEntropyLoss(ignore_index=pad_idx)\n",
    "\n",
    "whole_train_valid_cycle(model, 25, 'Anekdote')"
   ]
  },
  {
   "cell_type": "markdown",
   "metadata": {
    "pycharm": {
     "name": "#%% md\n"
    }
   },
   "source": [
    "## Генерация текста (анекдотов)"
   ]
  },
  {
   "cell_type": "code",
   "execution_count": 36,
   "metadata": {
    "pycharm": {
     "name": "#%%\n"
    }
   },
   "outputs": [],
   "source": [
    "eos = dataset.vocab.get_eos()\n",
    "\n",
    "\n",
    "def ids2string(ids):\n",
    "    result = []\n",
    "    for _ in ids:\n",
    "        if _ != eos:\n",
    "            result.append(dataset.vocab.idx2char(_))\n",
    "    \n",
    "    return \"\".join(result)\n",
    "\n",
    "\n",
    "def batch2string(ids, prefix):\n",
    "    ans = \"\"\n",
    "\n",
    "    for i, substr in enumerate(ids):\n",
    "        ans += prefix + ids2string(substr.tolist())\n",
    "\n",
    "        if i != len(ids) - 1:\n",
    "            ans += '\\n'\n",
    "\n",
    "    return ans\n",
    "\n",
    "\n",
    "def pick_by_distribution(logits):\n",
    "    probs = torch.exp(logits)\n",
    "\n",
    "    sample = torch.distributions.Categorical(probs).sample()\n",
    "\n",
    "    return sample\n",
    "\n",
    "\n",
    "@torch.inference_mode()\n",
    "def gen_continuation(model, prefix: str = \"\", max_len: int = 150, count=10, temperature: float=1):\n",
    "    x = torch.LongTensor([dataset.vocab.encode(prefix)[:-1]] * count).to(device)\n",
    "\n",
    "    model.eval()\n",
    "\n",
    "    logits = model(x)[:, -1, :]\n",
    "    outs = pick_by_distribution(logits / temperature).unsqueeze(1)\n",
    "\n",
    "    for i in range(max_len):\n",
    "        x = torch.cat([x, outs], dim=1)\n",
    "        logits = model(x)[:, -1, :]\n",
    "\n",
    "        outs = pick_by_distribution(logits / temperature).unsqueeze(1)\n",
    "\n",
    "    print(batch2string(x[:, len(prefix) + 1:], prefix + '|'))"
   ]
  },
  {
   "cell_type": "code",
   "execution_count": 37,
   "metadata": {
    "pycharm": {
     "name": "#%%\n"
    }
   },
   "outputs": [
    {
     "name": "stdout",
     "output_type": "stream",
     "text": [
      "Приходит как-то| в кафе каждый день на ледовом состоянии и плохо подходит от одного обезьянка. Поставил перед свинкой- Привет, а что такое сложно?- При чем самое несе\n",
      "Приходит как-то| на перевороте в одном деревенском дороге- Почему ты в пивную столе набираешь ваш мальчик?- Да это мама до сих пор не изменяется на дерево, а меня не \n",
      "Приходит как-то| на последний день в одежде и спрашивает у продавца- Почему каждый день в России не поняли, что моя жена произнесла, чтобы подскажет мне нравится отве\n",
      "Приходит как-то| к нему подходит мужик с женой домой и говорит- Что такое в случае есть?- А у нас просто ответили, что вы в самом деле не поняли, что мы не пришли на \n",
      "Приходит как-то| разговаривает другому- Скажите, почему вы спите в три дня даже было продукты?- Да, я тут вставал на нее ноги... А в самом деле, вы все подсказываете.\n",
      "Приходит как-то| после второго парашюта и выпил домой, на отдыхе- Мое свидание дома и говорит Да ты все время не знаешь, что правильно повторять ребенка в ответ в дет\n",
      "Приходит как-то| в военкомат на конфетку и говорит- Привет, это вам намекнуть?- В ней сидят на ночь в подъезде с меня не пойдет, что на шампанском по двух случаях был\n",
      "Приходит как-то| две блондинки в деревне и говорит- Вот мое последнее время не обязательно быть под мозгом с чистой полчаса.- Ты что, у тебя после смерти?- Нет, я так\n",
      "Приходит как-то| приходит с надписью с мужчиной по старости и говорит- Вовочка, ты просто веришь?- Да нет, ну вы мне никогда не могут отдельным.естовый подруга на во\n",
      "Приходит как-то| последний раз в зале подходит девушка и говорит- Доктор, почему вам сейчас так говорили, что вам не солнце не слышите?- Потому что все обвиняют до не\n"
     ]
    }
   ],
   "source": [
    "gen_continuation(model, prefix='Приходит как-то', temperature=0.5)"
   ]
  },
  {
   "cell_type": "code",
   "execution_count": 38,
   "metadata": {
    "pycharm": {
     "name": "#%%\n"
    }
   },
   "outputs": [
    {
     "name": "stdout",
     "output_type": "stream",
     "text": [
      "Штирлиц| встречает мужик в карман и говорит- Доктор, я не знаю, что ты можешь понять, что в постели после программиста на работе не приняла себе новостью и не\n",
      "Штирлиц| приходит к маме- Мама, пожалуйста, а почему ты стал поставить свою жизнь?- Да вот это все подобность у него не поняла, что у тебя не знает, что на ра\n",
      "Штирлиц| приходит к парню- Дорогая, я не смогла бы так достаточно было пришлось бы люди в полицию и поступить с ними по представителям до сих пор не принимают\n",
      "Штирлиц| и получил себя последним проблемом в комнату по старости.еда приходит в мире на самом деле только в магазине и говорит- Слушай, я поставлю свою деву\n",
      "Штирлиц| спрашивает у другого- Почему у вас на карте подруга на меня делает мне секс?- Нет, так и тоже не понял, что она так подумала, что ты можешь сказать, \n",
      "Штирлиц| приходит в карман с девушкой и говорит- Вася, ты слышал, что вы сможете стать телефоном?- Да нет, как себя с ней не поняли, что вы себя не поняли, чт\n",
      "Штирлиц| подходит мужик и говорит- Скажи, а почему ты всегда подскажишь, что ты не принесла мне на половину маленьких половины на день рождения?- Нет, не видн\n",
      "Штирлиц| подходит к другому говорит- Вася, ты не надо найти свою страну и после секса самое не видеть, а ты не страшно понимаешь, что подобрала последний день\n",
      "Штирлиц| приходит на прием к подруге на вопрос с полицией и спрашивает- Какой ты пойдешь на работу на самом деле?- Нет, с кем я на планете и подобрала кошку и\n",
      "Штирлиц| спрашивает у другого- Папа, а как ты всегда пришла в самолет и выступает в магазин и спрашивает мужик в постели на кухне за собой и говорит- Да нет, \n"
     ]
    }
   ],
   "source": [
    "gen_continuation(model, prefix='Штирлиц', temperature=0.3)"
   ]
  },
  {
   "cell_type": "code",
   "execution_count": 39,
   "metadata": {
    "pycharm": {
     "name": "#%%\n"
    }
   },
   "outputs": [
    {
     "name": "stdout",
     "output_type": "stream",
     "text": [
      "|- На сколько ты есть такой близко смех на результате политики?- На две образования.- Ой, сколько вы ее не слышите, что когда ты самое не будет на лекц\n",
      "|- Мама, почему из Интернета стала попадать по моему столе того, что вы можете понять у нас в самолете не стали поддерживать?- Нет, не смогу!ело со св\n",
      "|- Ты знаешь, как можно сделать своего мужа от меня на твоем деле с нами на голову?- Чтобы приближаться на работу, на что вы в семье были делать и выпи\n",
      "|- Вовочка, а бодрая такое трудное смертью после этого приехали за привычку, я вас надо просто на дачу у меня в одном из состояния тоже не могу. Вас бу\n",
      "|- Сколько ты постоянно купил в доме со словами жена!- Да нет, я не пришла в чувство, когда я просто приходила из акулов в своем случае все нашего рабо\n",
      "|- Как ты станешь будущее в машине в твою страну?- Да на которой что такое, что вы на моих классах на травмах по трехлетию отдали?ампанский и спрашива\n",
      "|- Можно куда-нибудь обозвать финансовое дело?- Деньги - это не просто у нас по военному состоянию на других болезни.удительный пароль на черном досту\n",
      "|- Почему у вас на одной полной станции всегда посмотрите на него в нашей стране своего мужа?- Нет, не могу...оздавшись на меня подписывают о том, что\n",
      "|Если мужчина всегда надо все время получил себя долго все равно в туалете и пришлось приятно сделать себя на своем отделении - это тот момент, когда о\n",
      "|Интересно, что когда вас стала следует было после выходных к нему следующий раз отличается с ними в долг - в день рождения с малостью не выходит в кар\n"
     ]
    }
   ],
   "source": [
    "gen_continuation(model, prefix='', temperature=0.5)"
   ]
  },
  {
   "cell_type": "code",
   "execution_count": 40,
   "metadata": {
    "pycharm": {
     "name": "#%%\n"
    }
   },
   "outputs": [
    {
     "name": "stdout",
     "output_type": "stream",
     "text": [
      "Купил мужик шляпу| и спрашивает- Скажите, мне что же твой как быстро представляете какой же обратнее доброе время подчинение?- Да, если она принесите от проститутки с п\n",
      "Купил мужик шляпу| и подходит домой и спрашивает- Почему ты в конце тебя сегодня на меня?- Мама, почему ты можешь подарить клиента?- Да все равно все время со мной - по\n",
      "Купил мужик шляпу| до поздравила шанс. В семье Принимает и говорит- Если вы любите его больше всего можно быть со своими дорогами своего соседа с диваном, а когда было \n",
      "Купил мужик шляпу| на самолет по улице в примерную страну и спрашивает- Алло, сколько ты не забыла, что я в одном году не надо разговаривать.учу по голове, а потом при\n",
      "Купил мужик шляпу| в коллегах в телефоне и есть похороны, всего не подумал, что не постоянно слушает на конец - после свадьбы.озень на поле в стране соседки отвечает м\n",
      "Купил мужик шляпу| на него к себе по приему и спрашивает- А кто так долго умеет поставить свои трусы, потому что на своем парне не заметили, что бабушка и не просите то\n",
      "Купил мужик шляпу| на поступку в кабинет, и вот так сильно просто принес своего соседа, на котором подходит с вами на себя не приходит домой и спрашивает- Папа, а что т\n",
      "Купил мужик шляпу| в страну меня по полу на прием из головой.амер накрылся с вами на пляже и спрашивает- А вы подумали меня без бедных получит?- Нет.- Не понимаю, мне \n",
      "Купил мужик шляпу| с одной женской работы в зоомагазин по улице и говорит- Дайте дождь и подарить свою жизнь на улице и запретить на бесплатное существо, который не под\n",
      "Купил мужик шляпу| и говорит- Бабушка, вы слышали, что продавали своего президента?- Да нет, это когда она все время не подскажите, что дедушка пришел в подъезд с мать \n"
     ]
    }
   ],
   "source": [
    "gen_continuation(model, prefix='Купил мужик шляпу', temperature=0.5)"
   ]
  },
  {
   "cell_type": "code",
   "execution_count": 41,
   "metadata": {
    "pycharm": {
     "name": "#%%\n"
    }
   },
   "outputs": [
    {
     "name": "stdout",
     "output_type": "stream",
     "text": [
      "Собака| на всем по дороге не надо все равно не более на полный год...амилия придумала водительскую и записать другой и больно сидеть в гостях.пермальный не\n",
      "Собака| пришел в тебя на своей жизни, что из кабинета на самом деле уже делают больше не могу с тобой подавлять на лесу.ебенный полос в компании, он так под\n",
      "Собака| - это когда благодаря предложение сказал, что старая компания надо обратно на работу с тобой достать свои деньги от рабочего раза.озочка, а она зако\n",
      "Собака| всегда пришла по планетам по математике, что просто подарил свои последнее борщости.амер смотрит в третий день, чтобы когда она проверяла по городу \n",
      "Собака| на работе, когда выходят на своей дневнике и после пройти на принципе на делах не страшно.оздем в Интернете - просто лучше и откупиться умным, лучше\n",
      "Собака| подходит мальчик на своем случае и говорит- Вам на приеме все написано в стране и все по своей стране, когда я делаю свое время столько деньги приход\n",
      "Собака| обращается отца к бабке- Мужчина, я вчера на каждом месте на старом состоянии меня попала на прошлом году на меня в прошлом разуме?- Как ты не понима\n",
      "Собака| подходит домой.- А вы меня слишком был в школе как ты делаешь?- Нет, я получаюсь сладкое правила, но у меня уже не понимает, что пришла на следующий \n",
      "Собака| в деревне просыпается в комнату. Доктор всех великих предметов стал стать размером.амбальный сыр в очереди на первом году у нас на ее нет церкви.ам\n",
      "Собака| - это когда после третьего мужика от великих девушки и отдал свою бумагу.емин Путин не отвечает у меня на мужчине, чем в магазине по приеме на лето.\n"
     ]
    }
   ],
   "source": [
    "gen_continuation(model, prefix='Собака', temperature=0.5)"
   ]
  },
  {
   "cell_type": "code",
   "execution_count": 42,
   "metadata": {
    "pycharm": {
     "name": "#%%\n"
    }
   },
   "outputs": [
    {
     "name": "stdout",
     "output_type": "stream",
     "text": [
      "Плывет крокодил|ом и говорит- Василий Иванович, скажите, как ты получил приятность в магазине, в котором получилась такая предмет министра, оставляет телефон по морде\n",
      "Плывет крокодил| на новостях и подходит домой, вас подходит из школы. Сосед в магазине- Привет, а вот вы сегодня есть это можно странно?- Потому что у них в части отд\n",
      "Плывет крокодил| на моих странах.амолен подходит по миру. Одна говорит- Почему вы все время на кухне с девушкой?- Ну, не понял...акин, забыл в поколении и позвонили\n",
      "Плывет крокодил|, когда выспался и в телефоне подходит домой, по подруге выпал за комплимент по среду. Один другому говорит- Почему при украинском условии из старика \n",
      "Плывет крокодил|а и спрашивает у другого- Что такое время так самое сложное время не придумать?- Сами не в 18 лет не забывают историю...ождающийся одного мужика с ра\n",
      "Плывет крокодил|а и постоянно маньяк и спрашивает- Папа, а вы какая красивая девушка пришла в статью головой?- Да я свою паспорту, она не сможет уметь буду в мире и н\n",
      "Плывет крокодил|ом на лоднем корпоративе.- Мама, я не вынесаю все на кататься за брак, у нас на работе. Во-вторых, что все равно так не купили.альший девушка вышла п\n",
      "Плывет крокодил|ом. Девушка восторженно подхожу в магазин. Один спрашивает- Ты почему вы не видите, что у тебя сильнее совсем не забыла?- Да ты понял, что в вашем слу\n",
      "Плывет крокодил|а, чтобы много лет на всякий год в твоем году рассказываешь на прием с себя.айка он не надо сломать свой трубку на коленях.учша обращается и говорит\n",
      "Плывет крокодил| по магазину, даже не забывал свои конца своих водков не собираются с начальником.амбер спрашивает у своего парня и спрашивает у отца- Скажите, а что\n"
     ]
    }
   ],
   "source": [
    "gen_continuation(model, prefix='Плывет крокодил', temperature=0.5)"
   ]
  },
  {
   "cell_type": "code",
   "execution_count": 43,
   "metadata": {
    "pycharm": {
     "name": "#%%\n"
    },
    "scrolled": false
   },
   "outputs": [
    {
     "name": "stdout",
     "output_type": "stream",
     "text": [
      "Штирлиц топил буржуйку. Только через два часа ему удалось ее утопить.\n",
      "\n",
      "Штирлиц топил буржуйку. Только через| неделю высказал волк и показывает своим новостям и поставил возмущенный войск. Жена возвращается к руком в карман от наркомана. Подходит к вдруг из в\n",
      "Штирлиц топил буржуйку. Только через| два раза просит в деревне и спрашивает своего у хорошо подняла у компании в последнее время по сообщению по магазину- Сара, зачем ты такой такие день\n",
      "Штирлиц топил буржуйку. Только через| две студенты и начальника и Путина как соседи больше не обманывали по разным на коленях в духовный размер на все время в самолете и все время на нее.\n",
      "Штирлиц топил буржуйку. Только через| непонятное время в суд и приставший к маме и не подобрался в прошлой неделю.ного у него три дня.ален - это когда я все равно не приходила за самого\n",
      "Штирлиц топил буржуйку. Только через| пустыну, даже во время секса не знала, что у нее было не продавать породу.уждающий по даме всегда просто отличается в пустыне и возмущается из самог\n",
      "Штирлиц топил буржуйку. Только через| несколько раз не поняла, что поддерживает время и спрашивает у меня с тем подругой в том, что зарядился в том, что на всем не ходит и понял, что не б\n",
      "Штирлиц топил буржуйку. Только через| пять раз в одной стороне обычно смотрит на колени и говорит- Не подозревай, как ты ответил на детском месте и уменьшиться по полному и подозревать о \n",
      "Штирлиц топил буржуйку. Только через| две недели подскажут о стене последние люди, которые приходит на одну надпись с пользованиями- Девушка, мама, как вы принимаете лицо после секса?- Пр\n",
      "Штирлиц топил буржуйку. Только через| пользуюсь не исполнить на одну жизнь и по субботе и просто не подарили разные страны.етинг - это когда вы с разговариваниями в каждой стране можно к\n",
      "Штирлиц топил буржуйку. Только через| нее есть такие слова.амбль Джонсон и старый порошенко прилетел самолет. Помните, что после осла спать в семье бабам и требуют картошками.едина Петр\n",
      "\n",
      "----------------------------------------------------------------------------------------------------\n",
      "\n",
      "Тупой  подумал Штирлиц, рассматривая угол. Сам ты тупой!  не на шутку обиделся угол.\n",
      "\n",
      "Тупой подумал Штирлиц, рассматривая угол.|едание надо детям открыть полицию.амбль опять не надо принести на берегу, они выбирают открыть свою симпатично указать соседей в Иваново со столами \n",
      "Тупой подумал Штирлиц, рассматривая угол.| И только на работу, не должно быть не встанет и сказал, что по меня делает на охоту с работы.ампания, вернувшаяся по прошлому матери и поступили в л\n",
      "Тупой подумал Штирлиц, рассматривая угол.| До сих пор не знаю, что если у нас тоже разобрался на кусок в политике.удильный мальчик закрыл сам, чтобы вы передаете свои деньги до конца.еда Нет\n",
      "Тупой подумал Штирлиц, рассматривая угол.|ам на бесплатном состоянии произнесет на своей машине по возмущению обратно после секса с ними на конкурсе после свадьбы. На стене был бы национальны\n",
      "Тупой подумал Штирлиц, рассматривая угол.| И потом подарил свою жену - со своим размером.алький собственный выдавал парнями и все привычки получилось подозревать о подозреваемом этом сидящем \n",
      "Тупой подумал Штирлиц, рассматривая угол.| Получил на последнее время за комнату и спрашивает- Вы не выдерживаете с температурой?- Ну что, просто нам поверяет меня с тем самогон и интересно, ч\n",
      "Тупой подумал Штирлиц, рассматривая угол.| В прошлом году всегда потом старается держать своего такой трудовик и в одном разных не попасть на телефонную девушку.амер в своем месяце подобрал с\n",
      "Тупой подумал Штирлиц, рассматривая угол.|уд других подходит в капусту и подходит мужик в мире, подходит к другому к ней к себе программиста и берет в постели и говорит- Сколько старших телеф\n",
      "Тупой подумал Штирлиц, рассматривая угол.| Он спрашивает- Что такое случайно смотреть на машину на слоном?- Нет, не поверить, что у вас было не понятно...амер выходит в ответ и говорит- Да во\n",
      "Тупой подумал Штирлиц, рассматривая угол.| Все женщины не приняли телефон, а в стране стал настоящим водкам и со словами просто не по приходу и так сказали, что на самом деле на ночь на три ра\n",
      "\n",
      "----------------------------------------------------------------------------------------------------\n",
      "\n",
      "Сегодня сделала доброе дело! Гуляла утром со своим питбулем. Смотрю, мужчина к остановке бежит. Ну, я собаку с поводка спустила. Успел таки мужчина на автобус...\n",
      "\n",
      "Сегодня сделала доброе дело! Гуляла| на самом деле, тут на отце подсказать ей об этом не понятно...озень волосатых на девочке спортсмена по барабану. Произошли и говорит- Скажите, а поч\n",
      "Сегодня сделала доброе дело! Гуляла| на завтрак и поступил на работу и настолько все время просто поднимался в 1997 году от нас нет. Он по дороге.амала старый травм страдает на кухне и \n",
      "Сегодня сделала доброе дело! Гуляла| поступила в своем день последний день. Чтобы она доказала, что у них не было симпатичным на берегу своим кольцом с половины в кармане.ознай время по\n",
      "Сегодня сделала доброе дело! Гуляла| в вагон с компьютером по три раза и совсем не поняли, что не понял, что как привезли в задницу и выдавали ее за собой на неделю в комнату.алок прихо\n",
      "Сегодня сделала доброе дело! Гуляла| на политику.амилия Петров случилась до сих пор не понял, что под компьютером принятый парень попал на неделю после представителей, в нем страшно под\n",
      "Сегодня сделала доброе дело! Гуляла| на новом саду и не получается на море.алький спрашивает другого- Дорогой, можно я начинаю на моей стороне?- Нет, я не буду!окинович не оставил на з\n",
      "Сегодня сделала доброе дело! Гуляла| и просто подарила на кухне и пошла в квартиру.амал не спорил девушку и говорит- Но все же на все время подняла...- Вот тут все время не приняла бы д\n",
      "Сегодня сделала доброе дело! Гуляла| больше не помещается с тобой на день рождения себя в подъезде и состоит после совместного меня с последней переворотом.озом на первом конце встречаю\n",
      "Сегодня сделала доброе дело! Гуляла| в своем месте спать на наступить и просто посмотрите со всеми на самом деле, что он стал вставать на машину с окнами и специально относится себя в об\n",
      "Сегодня сделала доброе дело! Гуляла|, дала в старости. На три дня на диване - старый и не подсказал.еменька- Сосед, почему подарок страшно поставил шесть часов?- Да вас по утрам и нет?\n",
      "\n",
      "----------------------------------------------------------------------------------------------------\n",
      "\n",
      "Алкоголь в малых дозах безвреден даже в больших количествах.\n",
      "\n",
      "Алкоголь в малых дозах безвреден|ного полоса требуется на две раза и продавцы на улице по командировке по положению на одни в вашем планете ее поняли, что такое стоите и всегда только\n",
      "Алкоголь в малых дозах безвреден|ного секса по настройству сидит с кровати и понял, что это мужик, которая на взрослом выросле одна подруга и все время не знает, что не любил потом по\n",
      "Алкоголь в малых дозах безвреден|ных детей на предпринимательных долгом на блондинку, как космонавтом после свадьбы в общественном коллеге по полицейски всем человеком. Слушают все сл\n",
      "Алкоголь в малых дозах безвреден|ного подруга в кабинет. Рассказывает приятно, что на своей стране стало придется поставить свою жену и западила в карман и спрашивает у своего мужа- Н\n",
      "Алкоголь в малых дозах безвреден|ного администратора обновления обороны самых рассказывает просто на стене по привычке с президентом не хотелось бы все равно нам нужно было всех ее по\n",
      "Алкоголь в малых дозах безвреден|ного человека и установила- Скажи, представляешь, может быть заставьте по телевизору беспорядка?- Да ты что, в состоянии идет пароль!- Почему?- Внутри\n",
      "Алкоголь в малых дозах безвреден|ных девушки за клавиатуру становятся нашими слабыми глупостями, а теперь по телевизору по приеме на телевизоре делают в круглых новом месте.уда можно\n",
      "Алкоголь в малых дозах безвреден|ных законопроектов секса не успели стать хорошим правилам еще.алик с проблемой не признало других быстро можно понять о том, чтобы он подумал Штирлиц\n",
      "Алкоголь в малых дозах безвреден|ных картошки по старикам не стоит как первые и не позвонили.еменский городский и проклятый в трех день рождения, когда в детстве не понял, что в кори\n",
      "Алкоголь в малых дозах безвреден|ного матча с бизнесменами, которые не всегда закончился в месяце.ача не выпил и старательно принимает только присмотреть свою дорогу.етки на всем ст\n",
      "\n",
      "----------------------------------------------------------------------------------------------------\n",
      "\n",
      "Встречаются два старых еврея- Ой, вей!- И ты мне будешь рассказывать!\n",
      "\n"
     ]
    },
    {
     "name": "stdout",
     "output_type": "stream",
     "text": [
      "Встречаются два старых еврея- Ой,| дай мне не подозревай после свадьбы до самого начальника.- А что такое?- Нет, надо поднять дома по компании по принципу, а мы его проснулись за полов\n",
      "Встречаются два старых еврея- Ой,| как тебе больные трусы на тебя добро давали!- А вы уже не поняли, что вы все понимаете, у меня высокий смысл на кресло со словами выбирают вашего мес\n",
      "Встречаются два старых еврея- Ой,| почему вы понимаете, что в тюрьме нашли свою страну пожарного парня - это когда мы с ней после секса всегда спрашивают происходите от нас не волнуютс\n",
      "Встречаются два старых еврея- Ой,| Люся, а почему ты не могла бы на столе из компании?- Да, доктор просто так сказал, что ты не сегодня не приходишь в школе и кричит, чтобы попала в ко\n",
      "Встречаются два старых еврея- Ой,| можно ли у вас в состоянии?- Просто у вас попали из квартиры в кармане.ерранин Сидоров не понял, что не приняли бы ты открыл в случай старость в том\n",
      "Встречаются два старых еврея- Ой,| вы слышали, что вы пришли в тюрьме в армию по морде в мире и дети и бездушно про обед?- По лесу не хватают...амбер и проверяет количество суда и спр\n",
      "Встречаются два старых еврея- Ой,| можно ли в банке?- Он, а потом не знаю, что вы не знаете, что я не понимаю, как себя называется во время дорогу и все равно не понял, что он с тобой \n",
      "Встречаются два старых еврея- Ой,| как принимать друг друга?- Потому что у нас с ней не смогли установить по комнату тесть, а судьбы не спали только в темноте до выходных...амбандерта\n",
      "Встречаются два старых еврея- Ой,| как вы все равно все равно не будете против его невозможно?- Да.- А как ты мне тоже не программист.- А вы надо было бы видите вас сейчас в кресло сек\n",
      "Встречаются два старых еврея- Ой,| как вы не принимаете мне даже на машине мальчика!- Сплю, сынок, не какие-то когда мне нужно сказать, что вы стоите по телефону по масло за свои возра\n",
      "\n",
      "----------------------------------------------------------------------------------------------------\n",
      "\n"
     ]
    }
   ],
   "source": [
    "for idx in [10, 660, 1309, 52016, 71034]:\n",
    "    print(aneks[idx])\n",
    "    print()\n",
    "    gen_continuation(model, prefix=' '.join(aneks[idx].split()[:5]), temperature=0.5)\n",
    "    print()\n",
    "    print('-' * 100)\n",
    "    print()"
   ]
  }
 ],
 "metadata": {
  "kernelspec": {
   "display_name": "startml",
   "language": "python",
   "name": "startml"
  },
  "language_info": {
   "codemirror_mode": {
    "name": "ipython",
    "version": 3
   },
   "file_extension": ".py",
   "mimetype": "text/x-python",
   "name": "python",
   "nbconvert_exporter": "python",
   "pygments_lexer": "ipython3",
   "version": "3.10.4"
  },
  "notebookId": "bc2f3635-a5e7-4581-b93b-0f3e38e3a3be",
  "notebookPath": "9/Lecture_9_Intro_to_DL.ipynb",
  "toc": {
   "base_numbering": 1,
   "nav_menu": {},
   "number_sections": true,
   "sideBar": true,
   "skip_h1_title": false,
   "title_cell": "Table of Contents",
   "title_sidebar": "Contents",
   "toc_cell": false,
   "toc_position": {},
   "toc_section_display": true,
   "toc_window_display": true
  }
 },
 "nbformat": 4,
 "nbformat_minor": 4
}
