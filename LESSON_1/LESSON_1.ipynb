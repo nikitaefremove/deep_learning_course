{
 "cells": [
  {
   "cell_type": "markdown",
   "id": "07e337dd-50e1-4bba-9834-41dfa65b84f6",
   "metadata": {},
   "source": [
    "### LESSON 1. \n",
    "# PYTORCH. ACTIVATION FUNCTIONS. FULLY CONNECTED"
   ]
  },
  {
   "cell_type": "markdown",
   "id": "29458919-05b8-43e2-8612-43b63a1da1dd",
   "metadata": {},
   "source": [
    "____"
   ]
  },
  {
   "cell_type": "code",
   "execution_count": 2,
   "id": "9db23fde-25b4-4b3a-b70f-c06f6fd2a7e4",
   "metadata": {
    "scrolled": true
   },
   "outputs": [
    {
     "name": "stdout",
     "output_type": "stream",
     "text": [
      "Looking in indexes: https://pypi.org/simple, https://download.pytorch.org/whl/cpu\n",
      "Collecting torch\n",
      "  Downloading https://download.pytorch.org/whl/cpu/torch-2.0.1-cp311-none-macosx_11_0_arm64.whl (55.8 MB)\n",
      "\u001b[2K     \u001b[90m━━━━━━━━━━━━━━━━━━━━━━━━━━━━━━━━━━━━━━━━\u001b[0m \u001b[32m55.8/55.8 MB\u001b[0m \u001b[31m8.1 MB/s\u001b[0m eta \u001b[36m0:00:00\u001b[0m00:01\u001b[0m00:01\u001b[0m\n",
      "\u001b[?25hCollecting torchvision\n",
      "  Downloading https://download.pytorch.org/whl/cpu/torchvision-0.15.2-cp311-cp311-macosx_11_0_arm64.whl (1.4 MB)\n",
      "\u001b[2K     \u001b[90m━━━━━━━━━━━━━━━━━━━━━━━━━━━━━━━━━━━━━━━━\u001b[0m \u001b[32m1.4/1.4 MB\u001b[0m \u001b[31m1.1 MB/s\u001b[0m eta \u001b[36m0:00:00\u001b[0m00:01\u001b[0m00:01\u001b[0m0m\n",
      "\u001b[?25hCollecting torchaudio\n",
      "  Downloading https://download.pytorch.org/whl/cpu/torchaudio-2.0.2-cp311-cp311-macosx_11_0_arm64.whl (3.6 MB)\n",
      "\u001b[2K     \u001b[90m━━━━━━━━━━━━━━━━━━━━━━━━━━━━━━━━━━━━━━━━\u001b[0m \u001b[32m3.6/3.6 MB\u001b[0m \u001b[31m2.2 MB/s\u001b[0m eta \u001b[36m0:00:00\u001b[0m00:01\u001b[0m00:01\u001b[0m0m\n",
      "\u001b[?25hCollecting filelock (from torch)\n",
      "  Obtaining dependency information for filelock from https://files.pythonhosted.org/packages/00/45/ec3407adf6f6b5bf867a4462b2b0af27597a26bd3cd6e2534cb6ab029938/filelock-3.12.2-py3-none-any.whl.metadata\n",
      "  Downloading filelock-3.12.2-py3-none-any.whl.metadata (2.7 kB)\n",
      "Collecting typing-extensions (from torch)\n",
      "  Obtaining dependency information for typing-extensions from https://files.pythonhosted.org/packages/ec/6b/63cc3df74987c36fe26157ee12e09e8f9db4de771e0f3404263117e75b95/typing_extensions-4.7.1-py3-none-any.whl.metadata\n",
      "  Using cached typing_extensions-4.7.1-py3-none-any.whl.metadata (3.1 kB)\n",
      "Collecting sympy (from torch)\n",
      "  Using cached sympy-1.12-py3-none-any.whl (5.7 MB)\n",
      "Collecting networkx (from torch)\n",
      "  Using cached networkx-3.1-py3-none-any.whl (2.1 MB)\n",
      "Collecting jinja2 (from torch)\n",
      "  Downloading https://download.pytorch.org/whl/Jinja2-3.1.2-py3-none-any.whl (133 kB)\n",
      "\u001b[2K     \u001b[90m━━━━━━━━━━━━━━━━━━━━━━━━━━━━━━━━━━━━━━━\u001b[0m \u001b[32m133.1/133.1 kB\u001b[0m \u001b[31m8.9 MB/s\u001b[0m eta \u001b[36m0:00:00\u001b[0m\n",
      "\u001b[?25hCollecting numpy (from torchvision)\n",
      "  Obtaining dependency information for numpy from https://files.pythonhosted.org/packages/86/a1/b8ef999c32f26a97b5f714887e21f96c12ae99a38583a0a96e65283ac0a1/numpy-1.25.2-cp311-cp311-macosx_11_0_arm64.whl.metadata\n",
      "  Using cached numpy-1.25.2-cp311-cp311-macosx_11_0_arm64.whl.metadata (5.6 kB)\n",
      "Collecting requests (from torchvision)\n",
      "  Obtaining dependency information for requests from https://files.pythonhosted.org/packages/70/8e/0e2d847013cb52cd35b38c009bb167a1a26b2ce6cd6965bf26b47bc0bf44/requests-2.31.0-py3-none-any.whl.metadata\n",
      "  Downloading requests-2.31.0-py3-none-any.whl.metadata (4.6 kB)\n",
      "Collecting pillow!=8.3.*,>=5.3.0 (from torchvision)\n",
      "  Obtaining dependency information for pillow!=8.3.*,>=5.3.0 from https://files.pythonhosted.org/packages/b7/ad/71982d18fd28ed1f93c31b8648f980ebdbdbcf7d8c9c9b4af59290914ce9/Pillow-10.0.0-cp311-cp311-macosx_11_0_arm64.whl.metadata\n",
      "  Using cached Pillow-10.0.0-cp311-cp311-macosx_11_0_arm64.whl.metadata (9.5 kB)\n",
      "Collecting MarkupSafe>=2.0 (from jinja2->torch)\n",
      "  Obtaining dependency information for MarkupSafe>=2.0 from https://files.pythonhosted.org/packages/fe/09/c31503cb8150cf688c1534a7135cc39bb9092f8e0e6369ec73494d16ee0e/MarkupSafe-2.1.3-cp311-cp311-macosx_10_9_universal2.whl.metadata\n",
      "  Downloading MarkupSafe-2.1.3-cp311-cp311-macosx_10_9_universal2.whl.metadata (3.0 kB)\n",
      "Collecting charset-normalizer<4,>=2 (from requests->torchvision)\n",
      "  Obtaining dependency information for charset-normalizer<4,>=2 from https://files.pythonhosted.org/packages/91/e6/8fa919fc84a106e9b04109de62bdf8526899e2754a64da66e1cd50ac1faa/charset_normalizer-3.2.0-cp311-cp311-macosx_11_0_arm64.whl.metadata\n",
      "  Downloading charset_normalizer-3.2.0-cp311-cp311-macosx_11_0_arm64.whl.metadata (31 kB)\n",
      "Collecting idna<4,>=2.5 (from requests->torchvision)\n",
      "  Downloading https://download.pytorch.org/whl/idna-3.4-py3-none-any.whl (61 kB)\n",
      "\u001b[2K     \u001b[90m━━━━━━━━━━━━━━━━━━━━━━━━━━━━━━━━━━━━━━━━\u001b[0m \u001b[32m61.5/61.5 kB\u001b[0m \u001b[31m5.1 MB/s\u001b[0m eta \u001b[36m0:00:00\u001b[0m\n",
      "\u001b[?25hCollecting urllib3<3,>=1.21.1 (from requests->torchvision)\n",
      "  Obtaining dependency information for urllib3<3,>=1.21.1 from https://files.pythonhosted.org/packages/9b/81/62fd61001fa4b9d0df6e31d47ff49cfa9de4af03adecf339c7bc30656b37/urllib3-2.0.4-py3-none-any.whl.metadata\n",
      "  Downloading urllib3-2.0.4-py3-none-any.whl.metadata (6.6 kB)\n",
      "Collecting certifi>=2017.4.17 (from requests->torchvision)\n",
      "  Obtaining dependency information for certifi>=2017.4.17 from https://files.pythonhosted.org/packages/4c/dd/2234eab22353ffc7d94e8d13177aaa050113286e93e7b40eae01fbf7c3d9/certifi-2023.7.22-py3-none-any.whl.metadata\n",
      "  Using cached certifi-2023.7.22-py3-none-any.whl.metadata (2.2 kB)\n",
      "Collecting mpmath>=0.19 (from sympy->torch)\n",
      "  Using cached mpmath-1.3.0-py3-none-any.whl (536 kB)\n",
      "Using cached Pillow-10.0.0-cp311-cp311-macosx_11_0_arm64.whl (3.1 MB)\n",
      "Using cached filelock-3.12.2-py3-none-any.whl (10 kB)\n",
      "Using cached numpy-1.25.2-cp311-cp311-macosx_11_0_arm64.whl (14.0 MB)\n",
      "Using cached requests-2.31.0-py3-none-any.whl (62 kB)\n",
      "Using cached typing_extensions-4.7.1-py3-none-any.whl (33 kB)\n",
      "Using cached certifi-2023.7.22-py3-none-any.whl (158 kB)\n",
      "Using cached charset_normalizer-3.2.0-cp311-cp311-macosx_11_0_arm64.whl (122 kB)\n",
      "Using cached MarkupSafe-2.1.3-cp311-cp311-macosx_10_9_universal2.whl (17 kB)\n",
      "Downloading urllib3-2.0.4-py3-none-any.whl (123 kB)\n",
      "\u001b[2K   \u001b[90m━━━━━━━━━━━━━━━━━━━━━━━━━━━━━━━━━━━━━━━\u001b[0m \u001b[32m123.9/123.9 kB\u001b[0m \u001b[31m675.7 kB/s\u001b[0m eta \u001b[36m0:00:00\u001b[0ma \u001b[36m0:00:01\u001b[0m\n",
      "\u001b[?25hInstalling collected packages: mpmath, urllib3, typing-extensions, sympy, pillow, numpy, networkx, MarkupSafe, idna, filelock, charset-normalizer, certifi, requests, jinja2, torch, torchvision, torchaudio\n",
      "Successfully installed MarkupSafe-2.1.3 certifi-2023.7.22 charset-normalizer-3.2.0 filelock-3.12.2 idna-3.4 jinja2-3.1.2 mpmath-1.3.0 networkx-3.1 numpy-1.25.2 pillow-10.0.0 requests-2.31.0 sympy-1.12 torch-2.0.1 torchaudio-2.0.2 torchvision-0.15.2 typing-extensions-4.7.1 urllib3-2.0.4\n"
     ]
    }
   ],
   "source": [
    "!pip3 install torch torchvision torchaudio --extra-index-url https://download.pytorch.org/whl/cpu"
   ]
  },
  {
   "cell_type": "code",
   "execution_count": 57,
   "id": "c16aa6c6-9b31-4eea-9e58-2b70e3352254",
   "metadata": {},
   "outputs": [],
   "source": [
    "import torch"
   ]
  },
  {
   "cell_type": "markdown",
   "id": "52d39ba3-6c8f-435c-9904-b773cdaa4c3f",
   "metadata": {},
   "source": [
    "### Task 5"
   ]
  },
  {
   "cell_type": "code",
   "execution_count": 21,
   "id": "ca7c1f2e-09c2-475b-8c46-9aa576df256d",
   "metadata": {},
   "outputs": [],
   "source": [
    "def function01(tensor: torch.Tensor, count_over: str) -> torch.Tensor:\n",
    "    if count_over == 'columns':\n",
    "        # mean value of columns\n",
    "        return tensor.mean(dim=0)\n",
    "    if count_over == 'rows':\n",
    "        # mean value of rows\n",
    "        return tensor.mean(dim=1)\n",
    "    else:\n",
    "        raise ValueError(f\"Invalid value for count_over: {count_over}. It should be 'columns' or 'rows'.\")"
   ]
  },
  {
   "cell_type": "code",
   "execution_count": 51,
   "id": "e95bb385-4183-482c-b51e-93a5c55a396c",
   "metadata": {},
   "outputs": [],
   "source": [
    "random_tensor = torch.rand(2, 3)"
   ]
  },
  {
   "cell_type": "code",
   "execution_count": 52,
   "id": "ffee0698-73e5-433b-9cfb-b2182d18cd07",
   "metadata": {},
   "outputs": [
    {
     "data": {
      "text/plain": [
       "tensor([[0.9539, 0.4972, 0.0732],\n",
       "        [0.0954, 0.3607, 0.2042]])"
      ]
     },
     "execution_count": 52,
     "metadata": {},
     "output_type": "execute_result"
    }
   ],
   "source": [
    "random_tensor"
   ]
  },
  {
   "cell_type": "code",
   "execution_count": 53,
   "id": "7e0141b8-92ec-4fc3-850a-bcc2806e7068",
   "metadata": {},
   "outputs": [
    {
     "data": {
      "text/plain": [
       "tensor([0.5081, 0.2201])"
      ]
     },
     "execution_count": 53,
     "metadata": {},
     "output_type": "execute_result"
    }
   ],
   "source": [
    "function01(random_tensor, 'rows')"
   ]
  },
  {
   "cell_type": "markdown",
   "id": "65a4043c-8d7b-4b7e-90bc-07e5c14cc0f7",
   "metadata": {},
   "source": [
    "### Task 6"
   ]
  },
  {
   "cell_type": "code",
   "execution_count": 54,
   "id": "fa6a8da8-15d3-4fc7-bcdd-3429369bdbff",
   "metadata": {},
   "outputs": [],
   "source": [
    "def function02(dataset: torch.Tensor):\n",
    "    columns = dataset.shape[1]\n",
    "    return torch.rand(columns, requires_grad=True, dtype=torch.float32)"
   ]
  },
  {
   "cell_type": "code",
   "execution_count": 55,
   "id": "46c3ca59-e6c4-4b81-a343-c5678c2fa68e",
   "metadata": {},
   "outputs": [
    {
     "data": {
      "text/plain": [
       "tensor([[0.9539, 0.4972, 0.0732],\n",
       "        [0.0954, 0.3607, 0.2042]])"
      ]
     },
     "execution_count": 55,
     "metadata": {},
     "output_type": "execute_result"
    }
   ],
   "source": [
    "random_tensor"
   ]
  },
  {
   "cell_type": "code",
   "execution_count": 56,
   "id": "a452d854-6612-4c52-a7b7-032d06ed50ce",
   "metadata": {},
   "outputs": [
    {
     "data": {
      "text/plain": [
       "tensor([0.7044, 0.6944, 0.5493], requires_grad=True)"
      ]
     },
     "execution_count": 56,
     "metadata": {},
     "output_type": "execute_result"
    }
   ],
   "source": [
    "function02(random_tensor)"
   ]
  },
  {
   "cell_type": "markdown",
   "id": "193e96ec-b7d0-40d7-8783-bbf6e764ad15",
   "metadata": {},
   "source": [
    "### Task 7"
   ]
  },
  {
   "cell_type": "code",
   "execution_count": 93,
   "id": "a9b52fe2-dd2a-4c16-98eb-603b2e90fb31",
   "metadata": {},
   "outputs": [],
   "source": [
    "def function03(x: torch.Tensor, y: torch.Tensor):\n",
    "    # Fix random seed\n",
    "    torch.manual_seed(0)\n",
    "\n",
    "    # Fix n_step, step_size and maximum value of mse\n",
    "    step_size = 1e-2\n",
    "    max_mse = 1\n",
    "    max_iterations = 5000\n",
    "\n",
    "    # Initial mse value (to enter the loop)\n",
    "    mse = float('inf')\n",
    "    iteration = 0\n",
    "    # Determine n_features, n_objects, weights and X\n",
    "    n_features = x.shape[1]\n",
    "    n_objects = y.shape[0]\n",
    "    w = torch.rand(n_features, requires_grad=True, dtype=torch.float32)\n",
    "\n",
    "    # Loop for determine mse by gradient\n",
    "    while mse > 1:\n",
    "        y_pred = torch.matmul(x, w) + torch.randn(n_objects) / 2\n",
    "        mse = torch.mean((y_pred - y) ** 2)\n",
    "\n",
    "        print(f'MSE {mse.item():.5f}')\n",
    "        iteration += 1\n",
    "\n",
    "        mse.backward()\n",
    "\n",
    "        with torch.no_grad():\n",
    "            w -= w.grad * step_size\n",
    "            w.grad.zero_()\n",
    "\n",
    "        if iteration > max_iterations:\n",
    "            break\n",
    "\n",
    "    return w\n"
   ]
  },
  {
   "cell_type": "code",
   "execution_count": 94,
   "id": "4a187c35-62fb-48ba-bede-2bbae6060ee6",
   "metadata": {},
   "outputs": [],
   "source": [
    "x = torch.rand(2, 3)"
   ]
  },
  {
   "cell_type": "code",
   "execution_count": 95,
   "id": "38039db8-3e06-41ba-97e3-b46e32b227cc",
   "metadata": {},
   "outputs": [
    {
     "data": {
      "text/plain": [
       "tensor([[0.8964, 0.4556, 0.6323],\n",
       "        [0.3489, 0.4017, 0.0223]])"
      ]
     },
     "execution_count": 95,
     "metadata": {},
     "output_type": "execute_result"
    }
   ],
   "source": [
    "x"
   ]
  },
  {
   "cell_type": "code",
   "execution_count": 96,
   "id": "5b7a135a-3f8f-4fa5-a19b-cd7db2510bf9",
   "metadata": {},
   "outputs": [],
   "source": [
    "y = torch.rand(2)"
   ]
  },
  {
   "cell_type": "code",
   "execution_count": 97,
   "id": "514a779e-3e40-4472-8c2b-1f21b5804e3a",
   "metadata": {},
   "outputs": [
    {
     "data": {
      "text/plain": [
       "tensor([0.1689, 0.2939])"
      ]
     },
     "execution_count": 97,
     "metadata": {},
     "output_type": "execute_result"
    }
   ],
   "source": [
    "y"
   ]
  },
  {
   "cell_type": "code",
   "execution_count": 98,
   "id": "96679f94-59e2-458a-bf32-5c82e2fa2a30",
   "metadata": {},
   "outputs": [
    {
     "name": "stdout",
     "output_type": "stream",
     "text": [
      "MSE 0.40641\n"
     ]
    },
    {
     "data": {
      "text/plain": [
       "tensor([0.4876, 0.7633, 0.0830], requires_grad=True)"
      ]
     },
     "execution_count": 98,
     "metadata": {},
     "output_type": "execute_result"
    }
   ],
   "source": [
    "function03(x, y)"
   ]
  },
  {
   "cell_type": "markdown",
   "id": "3657d8e0-353d-4b51-8802-545f9e251dc1",
   "metadata": {},
   "source": [
    "### Task 8"
   ]
  },
  {
   "cell_type": "code",
   "execution_count": 106,
   "id": "a22b681b-8e3c-4d1d-b267-d50dc8753e9b",
   "metadata": {},
   "outputs": [],
   "source": [
    "import torch\n",
    "from torch import nn\n",
    "\n",
    "\n",
    "def function04(x: torch.Tensor, y: torch.Tensor):\n",
    "    # Fix random seed\n",
    "    torch.manual_seed(0)\n",
    "\n",
    "    # Determine n_features, n_objects, weights\n",
    "    n_features = x.shape[1]\n",
    "\n",
    "    # Create a fully connected layer\n",
    "    layer = nn.Linear(in_features=n_features, out_features=1, bias=False)\n",
    "\n",
    "    # Ensure the layer uses the desired initial weights\n",
    "    with torch.no_grad():\n",
    "        layer.weight.copy_(torch.rand(n_features, requires_grad=True, dtype=torch.float32))\n",
    "\n",
    "    # Define step size, max MSE, and max iterations\n",
    "    step_size = 1e-2\n",
    "    max_mse = 0.3\n",
    "    max_iterations = 5000\n",
    "\n",
    "    # Initial mse value (to enter the loop)\n",
    "    mse = float('inf')\n",
    "    iteration = 0\n",
    "\n",
    "    # Loop for determine mse by gradient\n",
    "    while mse >= max_mse:\n",
    "        y_pred = layer(x).squeeze()  # Use the layer for predictions\n",
    "        mse = torch.mean((y_pred - y) ** 2)\n",
    "\n",
    "        print(f'Iteration {iteration}, MSE {mse.item():.5f}')\n",
    "        mse.backward()\n",
    "\n",
    "        with torch.no_grad():\n",
    "            layer.weight.data -= step_size * layer.weight.grad\n",
    "            layer.zero_grad()\n",
    "\n",
    "\n",
    "        iteration += 1\n",
    "\n",
    "        if iteration > max_iterations:\n",
    "            print(\"Reached the maximum number of iterations without achieving the desired MSE!\")\n",
    "            break\n",
    "\n",
    "    return layer"
   ]
  },
  {
   "cell_type": "code",
   "execution_count": 107,
   "id": "54523453-17da-4fbd-be6a-175911ec203d",
   "metadata": {},
   "outputs": [],
   "source": [
    "x = torch.rand(2, 3)\n",
    "y = torch.rand(2)"
   ]
  },
  {
   "cell_type": "code",
   "execution_count": 108,
   "id": "273023d6-dd44-47ef-b8a1-e02e009f4742",
   "metadata": {},
   "outputs": [
    {
     "name": "stdout",
     "output_type": "stream",
     "text": [
      "Iteration 0, MSE 0.22240\n"
     ]
    },
    {
     "data": {
      "text/plain": [
       "Linear(in_features=3, out_features=1, bias=False)"
      ]
     },
     "execution_count": 108,
     "metadata": {},
     "output_type": "execute_result"
    }
   ],
   "source": [
    "function04(x, y)"
   ]
  },
  {
   "cell_type": "markdown",
   "id": "a81763b5-e04b-4aff-a653-70b9b2a57ebe",
   "metadata": {},
   "source": [
    "___"
   ]
  }
 ],
 "metadata": {
  "kernelspec": {
   "display_name": "Python 3 (ipykernel)",
   "language": "python",
   "name": "python3"
  },
  "language_info": {
   "codemirror_mode": {
    "name": "ipython",
    "version": 3
   },
   "file_extension": ".py",
   "mimetype": "text/x-python",
   "name": "python",
   "nbconvert_exporter": "python",
   "pygments_lexer": "ipython3",
   "version": "3.11.4"
  }
 },
 "nbformat": 4,
 "nbformat_minor": 5
}
